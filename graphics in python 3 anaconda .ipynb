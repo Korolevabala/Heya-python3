{
 "cells": [
  {
   "cell_type": "code",
   "execution_count": 53,
   "metadata": {},
   "outputs": [],
   "source": [
    "from tkinter import *\n",
    "from tkinter import messagebox\n",
    " \n",
    "# clicks = 0\n",
    "# global sum\n",
    "def click_exit():\n",
    "#     global clicks\n",
    "#     clicks += 1\n",
    "#    root.title(\"Clicks {}\".format(clicks))\n",
    "#     root.quit()\n",
    "    root.destroy()\n",
    "def click_edit():\n",
    "    if sum ==1:\n",
    "        messagebox.showinfo(\"GUI Python\", \"Нажата опция Edit\")\n",
    "        \n",
    "root = Tk()\n",
    "root.title(\"GUI на Python\")\n",
    "root.geometry(\"300x250\")\n",
    "\n",
    "main_menu = Menu()\n",
    "file_menu = Menu()\n",
    "# main_menu.add_cascade(label=\"File\")\n",
    "file_menu.add_command(label=\"New\")\n",
    "file_menu.add_command(label=\"Save\")\n",
    "file_menu.add_command(label=\"Open\")\n",
    "file_menu.add_separator()\n",
    "file_menu.add_command(label=\"Exit\", command =click_exit)\n",
    "\n",
    "main_menu.add_cascade(label =\"File\", menu =file_menu)\n",
    "main_menu.add_cascade(label=\"Edit\", command = click_edit)\n",
    "main_menu.add_cascade(label=\"View\")\n",
    "\n",
    "Button(root, text=\"Quit\", command=root.destroy).pack()\n",
    "# выше штука классно работает пару ссылок без дополнительных окошек всяких все ок круто даже\n",
    " \n",
    "# btn = Button(text=\"Click Me\", background=\"#555\", foreground=\"#ccc\",\n",
    "#              padx=\"20\", pady=\"8\", font=\"16\", command=click_button)\n",
    "# btn.pack()\n",
    "\n",
    "root.config(menu=main_menu)\n",
    "root.mainloop()\n",
    "#  qiut -просто завершает root.quit() а destroy полностью закрывает меню т.е. сварачивает работу root.mainloop\n"
   ]
  },
  {
   "cell_type": "code",
   "execution_count": null,
   "metadata": {},
   "outputs": [],
   "source": []
  }
 ],
 "metadata": {
  "kernelspec": {
   "display_name": "Python 3",
   "language": "python",
   "name": "python3"
  },
  "language_info": {
   "codemirror_mode": {
    "name": "ipython",
    "version": 3
   },
   "file_extension": ".py",
   "mimetype": "text/x-python",
   "name": "python",
   "nbconvert_exporter": "python",
   "pygments_lexer": "ipython3",
   "version": "3.8.3"
  }
 },
 "nbformat": 4,
 "nbformat_minor": 4
}
